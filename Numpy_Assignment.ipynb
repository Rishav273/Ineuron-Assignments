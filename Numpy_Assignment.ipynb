{
  "nbformat": 4,
  "nbformat_minor": 0,
  "metadata": {
    "colab": {
      "name": "Numpy Assignment.ipynb",
      "provenance": [],
      "collapsed_sections": [],
      "authorship_tag": "ABX9TyPWUtzYOnS3VDgm5IalHBac",
      "include_colab_link": true
    },
    "kernelspec": {
      "name": "python3",
      "display_name": "Python 3"
    },
    "language_info": {
      "name": "python"
    }
  },
  "cells": [
    {
      "cell_type": "markdown",
      "metadata": {
        "id": "view-in-github",
        "colab_type": "text"
      },
      "source": [
        "<a href=\"https://colab.research.google.com/github/Rishav273/Ineuron-Assignments/blob/main/Numpy_Assignment.ipynb\" target=\"_parent\"><img src=\"https://colab.research.google.com/assets/colab-badge.svg\" alt=\"Open In Colab\"/></a>"
      ]
    },
    {
      "cell_type": "markdown",
      "metadata": {
        "id": "9uIu5WriWwBQ"
      },
      "source": [
        "Write a function so that the columns of the output matrix are powers of the input\n",
        "vector.\n",
        "The order of the powers is determined by the increasing boolean argument. Specifically, when\n",
        "increasing is False, the i-th output column is the input vector raised element-wise to the power\n",
        "of N - i - 1.\n",
        "\n",
        "HINT: Such a matrix with a geometric progression in each row is named for Alexandre-\n",
        "Theophile Vandermonde.\n",
        "\n",
        "Problem Statement 2:\n",
        "Given a sequence of n values x1, x2, ..., xn and a window size k>0, the k-th moving average of\n",
        "the given sequence is defined as follows:\n",
        "The moving average sequence has n-k+1 elements as shown below.\n",
        "The moving averages with k=4 of a ten-value sequence (n=10) is shown below\n",
        "i 1 2 3 4 5 6 7 8 9 10\n",
        "===== == == == == == == == == == ==\n",
        "Input 10 20 30 40 50 60 70 80 90 100\n",
        "y1 25 = (10+20+30+40)/4\n",
        "y2 35 = (20+30+40+50)/4\n",
        "y3 45 = (30+40+50+60)/4\n",
        "y4 55 = (40+50+60+70)/4\n",
        "y5 65 = (50+60+70+80)/4\n",
        "y6 75 = (60+70+80+90)/4\n",
        "y7 85 = (70+80+90+100)/4\n",
        "Thus, the moving average sequence has n-k+1=10-4+1=7 values.\n",
        "\n",
        "Question: Write a function to find moving average in an array over a window:\n",
        "Test it over [3, 5, 7, 2, 8, 10, 11, 65, 72, 81, 99, 100, 150] and window of 3."
      ]
    },
    {
      "cell_type": "code",
      "metadata": {
        "id": "2LXEHYr1WwsD"
      },
      "source": [
        "import numpy as np"
      ],
      "execution_count": 1,
      "outputs": []
    },
    {
      "cell_type": "code",
      "metadata": {
        "id": "oSrPgSg-XRsQ"
      },
      "source": [
        "def gen_matrix(input, n, increasing=False):\n",
        "    \n",
        "    if not increasing:\n",
        "        op_matx = np.array([x**(n-1-i) for x in input for i in range(n)]).reshape(input.size,n)\n",
        "    elif increasing:\n",
        "        op_matx = np.array([x**i for x in input for i in range(n)]).reshape(input.size,n)\n",
        "    \n",
        "    return op_matx"
      ],
      "execution_count": 2,
      "outputs": []
    },
    {
      "cell_type": "code",
      "metadata": {
        "colab": {
          "base_uri": "https://localhost:8080/"
        },
        "id": "wZ2-v5FfZna_",
        "outputId": "e244598b-83dd-47e6-b6db-76569f07fcb4"
      },
      "source": [
        "gen_matrix(input = np.array([1,4,5,6]),n=4)"
      ],
      "execution_count": 4,
      "outputs": [
        {
          "output_type": "execute_result",
          "data": {
            "text/plain": [
              "array([[  1,   1,   1,   1],\n",
              "       [ 64,  16,   4,   1],\n",
              "       [125,  25,   5,   1],\n",
              "       [216,  36,   6,   1]])"
            ]
          },
          "metadata": {
            "tags": []
          },
          "execution_count": 4
        }
      ]
    },
    {
      "cell_type": "markdown",
      "metadata": {
        "id": "PfEgY5Zw9VDc"
      },
      "source": [
        "Question 2:"
      ]
    },
    {
      "cell_type": "code",
      "metadata": {
        "id": "fF4oO5uyaSKU"
      },
      "source": [
        "import numpy as np\n",
        "def get_ma(input, window=3) :\n",
        "    x = np.cumsum(input, dtype=float)\n",
        "    x[window:] = x[window:] - x[:-window]\n",
        "    return x[window - 1:] / window"
      ],
      "execution_count": 6,
      "outputs": []
    },
    {
      "cell_type": "code",
      "metadata": {
        "colab": {
          "base_uri": "https://localhost:8080/"
        },
        "id": "XyuxnN9o9gPW",
        "outputId": "d2ca3a67-4cf7-41ac-cd17-09f71ad7d1fe"
      },
      "source": [
        "input = [3, 5, 7, 2, 8, 10, 11, 65, 72, 81, 99, 100, 150]\n",
        "get_ma(input=input,window=3)"
      ],
      "execution_count": 7,
      "outputs": [
        {
          "output_type": "execute_result",
          "data": {
            "text/plain": [
              "array([  5.        ,   4.66666667,   5.66666667,   6.66666667,\n",
              "         9.66666667,  28.66666667,  49.33333333,  72.66666667,\n",
              "        84.        ,  93.33333333, 116.33333333])"
            ]
          },
          "metadata": {
            "tags": []
          },
          "execution_count": 7
        }
      ]
    },
    {
      "cell_type": "code",
      "metadata": {
        "id": "SuLbhf189uel"
      },
      "source": [
        ""
      ],
      "execution_count": null,
      "outputs": []
    }
  ]
}