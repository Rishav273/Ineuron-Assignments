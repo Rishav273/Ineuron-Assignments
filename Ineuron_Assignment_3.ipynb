{
  "nbformat": 4,
  "nbformat_minor": 0,
  "metadata": {
    "colab": {
      "name": "Ineuron Assignment 3.ipynb",
      "provenance": [],
      "collapsed_sections": [],
      "authorship_tag": "ABX9TyM1IBqxS7hwhTnxFOW1Kv1e",
      "include_colab_link": true
    },
    "kernelspec": {
      "name": "python3",
      "display_name": "Python 3"
    }
  },
  "cells": [
    {
      "cell_type": "markdown",
      "metadata": {
        "id": "view-in-github",
        "colab_type": "text"
      },
      "source": [
        "<a href=\"https://colab.research.google.com/github/Rishav273/Ineuron-Assignments/blob/main/Ineuron_Assignment_3.ipynb\" target=\"_parent\"><img src=\"https://colab.research.google.com/assets/colab-badge.svg\" alt=\"Open In Colab\"/></a>"
      ]
    },
    {
      "cell_type": "markdown",
      "metadata": {
        "id": "L7gfoQoT84cO"
      },
      "source": [
        "1.1 Write a Python Program to implement your own myreduce() function which works exactly  like Python's built-in function reduce()"
      ]
    },
    {
      "cell_type": "code",
      "metadata": {
        "id": "qZe1cWb587nk",
        "colab": {
          "base_uri": "https://localhost:8080/"
        },
        "outputId": "32e248f4-cecf-4e0f-890f-ab176c16140b"
      },
      "source": [
        "def myreduce(function,mylist):\n",
        "  x=mylist[0]\n",
        "\n",
        "  for i in range(1,len(mylist)):\n",
        "  \tx = function(x,mylist[i])\n",
        "  return (x)\n",
        "\n",
        "def multiply(a,b):\n",
        "  return a*b\n",
        "\n",
        "test_list=[1,5,10,15]\n",
        "\n",
        "myreduce(multiply,test_list)"
      ],
      "execution_count": 1,
      "outputs": [
        {
          "output_type": "execute_result",
          "data": {
            "text/plain": [
              "750"
            ]
          },
          "metadata": {
            "tags": []
          },
          "execution_count": 1
        }
      ]
    },
    {
      "cell_type": "markdown",
      "metadata": {
        "id": "tGgQX5Y288QF"
      },
      "source": [
        "1.2 Write a Python program to implement your own myfilter() function which works exactly  like Python's built-in function filter() \n"
      ]
    },
    {
      "cell_type": "code",
      "metadata": {
        "colab": {
          "base_uri": "https://localhost:8080/"
        },
        "id": "2Cur3hSc890D",
        "outputId": "08791304-a2ca-4371-d00b-fe956a66b175"
      },
      "source": [
        "# Creating a filter function to select only numbers divisible by 5 from a list:\n",
        "\n",
        "def myfilter(div_by_five,input_list):\n",
        "    list_3 = []\n",
        "    for i in input_list:\n",
        "      if div_by_five(i):\n",
        "        list_3.append(i)\n",
        "    return list_3\n",
        "\n",
        "def div_by_five(a):\n",
        "    if a % 5 == 0:\n",
        "      return True\n",
        "    else:\n",
        "      return False\n",
        "\n",
        "list_2=[2,3,4,5,6,7,8,9,10,12,15]\n",
        "myfilter(div_by_five,list_2)\n",
        "  "
      ],
      "execution_count": 2,
      "outputs": [
        {
          "output_type": "execute_result",
          "data": {
            "text/plain": [
              "[5, 10, 15]"
            ]
          },
          "metadata": {
            "tags": []
          },
          "execution_count": 2
        }
      ]
    },
    {
      "cell_type": "markdown",
      "metadata": {
        "id": "cHllttFg8-nu"
      },
      "source": [
        "2. Implement List comprehensions to produce the following lists.  \n",
        "Write List comprehensions to produce the following Lists \n",
        "\n",
        "\n",
        "['x', 'xx', 'xxx', 'xxxx', 'y', 'yy', 'yyy', 'yyyy', 'z', 'zz', 'zzz', 'zzzz']  \n",
        "\n",
        "['x', 'y', 'z', 'xx', 'yy', 'zz', 'xxx', 'yyy', 'zzz', 'xxxx', 'yyyy', 'zzzz']  \n",
        "\n",
        "[[2], [3], [4], [3], [4], [5], [4], [5], [6]] \n",
        "\n",
        "[[2, 3, 4, 5], [3, 4, 5, 6], [4, 5, 6, 7], [5, 6, 7, 8]] \n"
      ]
    },
    {
      "cell_type": "code",
      "metadata": {
        "colab": {
          "base_uri": "https://localhost:8080/"
        },
        "id": "Aym6wMVK9CDz",
        "outputId": "b50ca6a6-016c-4d4f-812b-469905040849"
      },
      "source": [
        "# 1.\n",
        "\n",
        "[i*j for i in 'xyz' for j in range(1,5)]"
      ],
      "execution_count": 3,
      "outputs": [
        {
          "output_type": "execute_result",
          "data": {
            "text/plain": [
              "['x', 'xx', 'xxx', 'xxxx', 'y', 'yy', 'yyy', 'yyyy', 'z', 'zz', 'zzz', 'zzzz']"
            ]
          },
          "metadata": {
            "tags": []
          },
          "execution_count": 3
        }
      ]
    },
    {
      "cell_type": "code",
      "metadata": {
        "colab": {
          "base_uri": "https://localhost:8080/"
        },
        "id": "8hkToVsxLxaY",
        "outputId": "f3eb3b1c-38b6-49a3-e04e-d1477a1d1ac9"
      },
      "source": [
        "[ i*j for j in range(1,5) for i in 'xyz']\n"
      ],
      "execution_count": 4,
      "outputs": [
        {
          "output_type": "execute_result",
          "data": {
            "text/plain": [
              "['x', 'y', 'z', 'xx', 'yy', 'zz', 'xxx', 'yyy', 'zzz', 'xxxx', 'yyyy', 'zzzz']"
            ]
          },
          "metadata": {
            "tags": []
          },
          "execution_count": 4
        }
      ]
    },
    {
      "cell_type": "code",
      "metadata": {
        "colab": {
          "base_uri": "https://localhost:8080/"
        },
        "id": "Lx2YQkbuOFd_",
        "outputId": "25afffd8-bd82-428b-9aea-70bf34e4ede1"
      },
      "source": [
        "numeric_list = [2,3,4]\n",
        "result = [ [item+num] for item in numeric_list for num in range(0,3)]\n",
        "print(result)"
      ],
      "execution_count": 5,
      "outputs": [
        {
          "output_type": "stream",
          "text": [
            "[[2], [3], [4], [3], [4], [5], [4], [5], [6]]\n"
          ],
          "name": "stdout"
        }
      ]
    },
    {
      "cell_type": "code",
      "metadata": {
        "colab": {
          "base_uri": "https://localhost:8080/"
        },
        "id": "fEWPk0T5QGlW",
        "outputId": "820eb556-a11a-4c00-895b-e8214be09d3f"
      },
      "source": [
        "var = [2,3,4,5,6,7,8]\n",
        "\n",
        "[ var[i:i+4] for i in range(0,len(var)-3)]"
      ],
      "execution_count": 6,
      "outputs": [
        {
          "output_type": "execute_result",
          "data": {
            "text/plain": [
              "[[2, 3, 4, 5], [3, 4, 5, 6], [4, 5, 6, 7], [5, 6, 7, 8]]"
            ]
          },
          "metadata": {
            "tags": []
          },
          "execution_count": 6
        }
      ]
    },
    {
      "cell_type": "code",
      "metadata": {
        "id": "1_6HU46lXJJI",
        "colab": {
          "base_uri": "https://localhost:8080/"
        },
        "outputId": "3970f062-dcfc-4347-f2b7-d055a3a8558d"
      },
      "source": [
        "input_list=[1,2,3]\n",
        "result = [ (b,a) for a in input_list for b in input_list]\n",
        "print(str(result))"
      ],
      "execution_count": 7,
      "outputs": [
        {
          "output_type": "stream",
          "text": [
            "[(1, 1), (2, 1), (3, 1), (1, 2), (2, 2), (3, 2), (1, 3), (2, 3), (3, 3)]\n"
          ],
          "name": "stdout"
        }
      ]
    },
    {
      "cell_type": "code",
      "metadata": {
        "id": "Vqyx6Io1fcvj"
      },
      "source": [
        ""
      ],
      "execution_count": null,
      "outputs": []
    }
  ]
}