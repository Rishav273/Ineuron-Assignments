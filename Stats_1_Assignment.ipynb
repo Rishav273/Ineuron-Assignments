{
  "nbformat": 4,
  "nbformat_minor": 0,
  "metadata": {
    "colab": {
      "name": "Stats 1 Assignment.ipynb",
      "provenance": [],
      "collapsed_sections": [],
      "authorship_tag": "ABX9TyO5f0iVZAkPsnAjUCE8LlzJ",
      "include_colab_link": true
    },
    "kernelspec": {
      "name": "python3",
      "display_name": "Python 3"
    },
    "language_info": {
      "name": "python"
    }
  },
  "cells": [
    {
      "cell_type": "markdown",
      "metadata": {
        "id": "view-in-github",
        "colab_type": "text"
      },
      "source": [
        "<a href=\"https://colab.research.google.com/github/Rishav273/Ineuron-Assignments/blob/main/Stats_1_Assignment.ipynb\" target=\"_parent\"><img src=\"https://colab.research.google.com/assets/colab-badge.svg\" alt=\"Open In Colab\"/></a>"
      ]
    },
    {
      "cell_type": "markdown",
      "metadata": {
        "id": "Eglw_3KpfUUv"
      },
      "source": [
        "Question 1:"
      ]
    },
    {
      "cell_type": "code",
      "metadata": {
        "id": "UPHmKtligOt4"
      },
      "source": [
        "import numpy as np\n",
        "from scipy import stats, integrate,special\n",
        "import warnings\n",
        "warnings.filterwarnings('ignore')\n",
        "import pandas as pd\n",
        "import matplotlib.pyplot as plt\n",
        "import seaborn as sns\n",
        "%matplotlib inline"
      ],
      "execution_count": null,
      "outputs": []
    },
    {
      "cell_type": "code",
      "metadata": {
        "colab": {
          "base_uri": "https://localhost:8080/"
        },
        "id": "QLiavGQlfgv3",
        "outputId": "5b93fc31-2ff8-4484-b28e-2b14cb74f2bc"
      },
      "source": [
        "def get_descriptive_stats(input):\n",
        "\n",
        "  print(f\"The mean of the marks: {np.mean(marks)}\")\n",
        "  print(f\"The median of the marks: {np.median(marks)}\")\n",
        "  print(f\"The mode of the marks: {stats.mode(marks)}\")\n",
        "  print(f\"The standard Deviation of the marks: {np.std(marks)}\")\n",
        "\n",
        "marks = np.asarray([6,7,5,7,7,8,7,6,9,7,4,10,6,8,8,9,5,6,4,8])\n",
        "get_descriptive_stats(marks)"
      ],
      "execution_count": null,
      "outputs": [
        {
          "output_type": "stream",
          "text": [
            "The mean of the marks: 6.85\n",
            "The median of the marks: 7.0\n",
            "The mode of the marks: ModeResult(mode=array([7]), count=array([5]))\n",
            "The standard Deviation of the marks: 1.5898113095584647\n"
          ],
          "name": "stdout"
        }
      ]
    },
    {
      "cell_type": "markdown",
      "metadata": {
        "id": "pv1jNpSig7sY"
      },
      "source": [
        "Question 2:"
      ]
    },
    {
      "cell_type": "code",
      "metadata": {
        "colab": {
          "base_uri": "https://localhost:8080/"
        },
        "id": "-uSW_aWdg8rd",
        "outputId": "07f046b6-e408-4f2f-dee5-a9564b6b9fc4"
      },
      "source": [
        "records =np.asarray([28, 122, 217, 130, 120, 86, 80, 90, 140, 120, \n",
        "                          70, 40, 145, 113, 90, 68, 174, 194, 170,100, \n",
        "                          75, 104, 97, 75,123, 100, 75, 104, 97, 75, 123,\n",
        "                          100, 89, 120, 109])\n",
        "\n",
        "get_descriptive_stats(records)"
      ],
      "execution_count": null,
      "outputs": [
        {
          "output_type": "stream",
          "text": [
            "The mean of the marks: 6.85\n",
            "The median of the marks: 7.0\n",
            "The mode of the marks: ModeResult(mode=array([7]), count=array([5]))\n",
            "The standard Deviation of the marks: 1.5898113095584647\n"
          ],
          "name": "stdout"
        }
      ]
    },
    {
      "cell_type": "markdown",
      "metadata": {
        "id": "rLVcdqKNhu3H"
      },
      "source": [
        "Question 3:"
      ]
    },
    {
      "cell_type": "code",
      "metadata": {
        "colab": {
          "base_uri": "https://localhost:8080/"
        },
        "id": "FWXxYNAchv36",
        "outputId": "bd7e2490-c2c3-4caa-c9b2-e6585c873438"
      },
      "source": [
        "x = np.array([0,1,2,3,4,5])\n",
        "fx = np.array([0.09,0.15,0.40,0.25,0.10,0.01])\n",
        "\n",
        "x.reshape((1,-1))\n",
        "fx.reshape((-1,1))\n",
        "mean=np.dot(x,fx)\n",
        "x_var = (x-mean)**2\n",
        "variance = np.dot(x_var.reshape(1,-1),fx)\n",
        "print(f\"Mean workout: {mean}\")\n",
        "print(f\"Variance of workout: {str(variance)}\")"
      ],
      "execution_count": null,
      "outputs": [
        {
          "output_type": "stream",
          "text": [
            "Mean workout: 2.15\n",
            "Variance of workout: [1.2275]\n"
          ],
          "name": "stdout"
        }
      ]
    },
    {
      "cell_type": "markdown",
      "metadata": {
        "id": "o0p98IxRincX"
      },
      "source": [
        "Question 4:"
      ]
    },
    {
      "cell_type": "code",
      "metadata": {
        "colab": {
          "base_uri": "https://localhost:8080/"
        },
        "id": "1JH14z8hioVC",
        "outputId": "d9883c5e-f55b-4904-e147-865f5413273a"
      },
      "source": [
        "pdf =lambda d:20*(np.exp((-20*(d-12.5))))\n",
        "x = 12.6\n",
        "P_x=integrate.quad(pdf,12.6,np.inf)\n",
        "y = 11\n",
        "cdf=integrate.quad(pdf,-np.inf,y)\n",
        "print(f\"Proportion of Parts need to scrapped when d >12.6mm is :{P_x[0]}\")\n",
        "print(f\"CDF when d= 11mm is:{cdf[0]}\")\n",
        "print(f\"Proportion of CDF when d>12.5mm is : {integrate.quad(pdf,12.5,np.inf)[0]}\")"
      ],
      "execution_count": null,
      "outputs": [
        {
          "output_type": "stream",
          "text": [
            "Proportion of Parts need to scrapped when d >12.6mm is :0.13533528323661398\n",
            "CDF when d= 11mm is:inf\n",
            "Proportion of CDF when d>12.5mm is : 1.0000000000000024\n"
          ],
          "name": "stdout"
        }
      ]
    },
    {
      "cell_type": "markdown",
      "metadata": {
        "id": "tffDk3X2jam_"
      },
      "source": [
        "Question 5:"
      ]
    },
    {
      "cell_type": "code",
      "metadata": {
        "colab": {
          "base_uri": "https://localhost:8080/"
        },
        "id": "UmxljCuzjblK",
        "outputId": "5f3804a6-8085-485d-c400-aecfa80448c5"
      },
      "source": [
        "n = 6\n",
        "k = 2\n",
        "p = 0.3\n",
        "\n",
        "binom_prob = stats.binom.pmf(k=k,n=n,p=p)\n",
        "print('Probability of having 2 faulty LEDs: ',binom_prob)"
      ],
      "execution_count": null,
      "outputs": [
        {
          "output_type": "stream",
          "text": [
            "Probability of having 2 faulty LEDs:  0.32413499999999995\n"
          ],
          "name": "stdout"
        }
      ]
    },
    {
      "cell_type": "code",
      "metadata": {
        "colab": {
          "base_uri": "https://localhost:8080/",
          "height": 402
        },
        "id": "Ur9fF2GOtKgp",
        "outputId": "090f7109-c8a5-4ff0-efc5-46801fb8ec47"
      },
      "source": [
        "#x = faulty = 0.3\n",
        "#y = not faulty = 0.7\n",
        "x = 0.3\n",
        "y = 0.7\n",
        "df=pd.DataFrame({'a':[int(i) for i in range(7)],\n",
        "                 'B_a':[special.comb(6,i)*(x**i)*(y**(6-i)) for i in range(7)]})\n",
        "print(df.iloc[2])\n",
        "plt.figure(figsize=(15,5))\n",
        "sns.barplot('a','B_a',data=df)\n",
        "plt.xlabel('Number of Faulty Leds')\n",
        "plt.ylabel('Probability of Fault')"
      ],
      "execution_count": null,
      "outputs": [
        {
          "output_type": "stream",
          "text": [
            "a      2.000000\n",
            "B_a    0.324135\n",
            "Name: 2, dtype: float64\n"
          ],
          "name": "stdout"
        },
        {
          "output_type": "execute_result",
          "data": {
            "text/plain": [
              "Text(0, 0.5, 'Probability of Fault')"
            ]
          },
          "metadata": {
            "tags": []
          },
          "execution_count": 19
        },
        {
          "output_type": "display_data",
          "data": {
            "image/png": "[encoded data removed]",
            "text/plain": [
              "<Figure size 1080x360 with 1 Axes>"
            ]
          },
          "metadata": {
            "tags": [],
            "needs_background": "light"
          }
        }
      ]
    },
    {
      "cell_type": "code",
      "metadata": {
        "colab": {
          "base_uri": "https://localhost:8080/"
        },
        "id": "YqOjAiAzuVQ0",
        "outputId": "ad91939a-d0b1-4ba9-afe2-ca330c28075c"
      },
      "source": [
        "\n",
        "df['Expected value']=df['a']*df['B_a']\n",
        "mean=np.round(df['Expected value'].sum())\n",
        "print('mean = {}'.format(mean))\n",
        "df['variance']=df['B_a']*(df['a']-mean)**2\n",
        "std=np.sqrt(df['variance'].sum())\n",
        "print(f\"Standard Deviation : {np.round(std)}\")\n"
      ],
      "execution_count": null,
      "outputs": [
        {
          "output_type": "stream",
          "text": [
            "mean = 2.0\n",
            "Standard Deviation : 1.0\n"
          ],
          "name": "stdout"
        }
      ]
    },
    {
      "cell_type": "markdown",
      "metadata": {
        "id": "9fsi6okOwGs8"
      },
      "source": [
        "Question 6:"
      ]
    },
    {
      "cell_type": "code",
      "metadata": {
        "colab": {
          "base_uri": "https://localhost:8080/"
        },
        "id": "EhWUMZOmwH5p",
        "outputId": "53094ddc-fa53-498b-f21e-9fec58dcd5d7"
      },
      "source": [
        "#Gaurav- avg=8,p1=0.75\n",
        "#Barakha- avg=12,p2=0.45\n",
        "\n",
        "print(f\"Probability of each of them solving 5 questions correctly is:{stats.binom.pmf(5,8,0.75)*stats.binom.pmf(5,12,0.45)}\")\n",
        "print(f\"Probability of each of them solving 4 questions correctly is:{stats.binom.pmf(4,8,0.75)*stats.binom.pmf(4,12,0.45)}\")\n",
        "print(f\"Probability of each of them solving 6 questions correctly is:{stats.binom.pmf(6,8,0.75)*stats.binom.pmf(6,12,0.45)}\")"
      ],
      "execution_count": null,
      "outputs": [
        {
          "output_type": "stream",
          "text": [
            "Probability of each of them solving 5 questions correctly is:0.04619989057299217\n",
            "Probability of each of them solving 4 questions correctly is:0.014704826281912994\n",
            "Probability of each of them solving 6 questions correctly is:0.0661498433204205\n"
          ],
          "name": "stdout"
        }
      ]
    },
    {
      "cell_type": "markdown",
      "metadata": {
        "id": "AHVKO5CoxvwS"
      },
      "source": [
        "Question 7:"
      ]
    },
    {
      "cell_type": "code",
      "metadata": {
        "colab": {
          "base_uri": "https://localhost:8080/"
        },
        "id": "K3DyuETOxwxO",
        "outputId": "3f7493d3-018c-420c-ebf7-938bf59b836c"
      },
      "source": [
        "#We need to calculate average number of customers arriving per 4 minutes\n",
        "#72/60 customers come per minute\n",
        "mu = (72/60)*4 #customers come per 4 minutes\n",
        "\n",
        "print(f\"The probability of arriving 5 cutomers in 4 minutes is : {stats.poisson.pmf(k=5,mu=mu)}\")\n",
        "\n",
        "# For not more than 3 customers, we need to consider 0,1,2 and 3 customers separately:\n",
        "print(f\"The probability of not more than 3 cutomers arriving in 4 minutes is : {stats.poisson.cdf(k=3,mu=mu)}\")\n",
        "print(f\"The probability of more than 3 cutomers arriving in 4 minutes is : {1 - stats.poisson.cdf(k=3,mu=mu)}\")"
      ],
      "execution_count": null,
      "outputs": [
        {
          "output_type": "stream",
          "text": [
            "The probability of arriving 5 cutomers in 4 minutes is : 0.17474768364388296\n",
            "The probability of not more than 3 cutomers arriving in 4 minutes is : 0.2942299164965642\n",
            "The probability of more than 3 cutomers arriving in 4 minutes is : 0.7057700835034357\n"
          ],
          "name": "stdout"
        }
      ]
    },
    {
      "cell_type": "code",
      "metadata": {
        "colab": {
          "base_uri": "https://localhost:8080/",
          "height": 351
        },
        "id": "9YkikB7pzfqE",
        "outputId": "61df2bb5-1c59-45fe-e2ba-f3707dbc1c33"
      },
      "source": [
        "x = list(range(0,10))\n",
        "fig,ax = plt.subplots(1,1,figsize=(15,5))\n",
        "ax.plot(x, stats.poisson.pmf(x,mu), 'go', ms=8, label='poisson pmf')\n",
        "ax.vlines(x, 0, stats.poisson.pmf(x, mu), colors='g', lw=5, alpha=0.5)\n",
        "plt.xlabel('Number of customers')\n",
        "plt.ylabel('Probability')"
      ],
      "execution_count": null,
      "outputs": [
        {
          "output_type": "execute_result",
          "data": {
            "text/plain": [
              "Text(0, 0.5, 'Probability')"
            ]
          },
          "metadata": {
            "tags": []
          },
          "execution_count": 36
        },
        {
          "output_type": "display_data",
          "data": {
            "image/png": "[encoded data removed]",
            "text/plain": [
              "<Figure size 1080x360 with 1 Axes>"
            ]
          },
          "metadata": {
            "tags": [],
            "needs_background": "light"
          }
        }
      ]
    },
    {
      "cell_type": "markdown",
      "metadata": {
        "id": "hR1IKnO71tqs"
      },
      "source": [
        "Question 8:"
      ]
    },
    {
      "cell_type": "code",
      "metadata": {
        "colab": {
          "base_uri": "https://localhost:8080/",
          "height": 388
        },
        "id": "U0cos_dX1u5h",
        "outputId": "02f708af-4223-4094-b395-82be7e02f256"
      },
      "source": [
        "#Rate of entering=77 per minute\n",
        "#error rate= 6/hour=0.1 per minute\n",
        "#No of errors per word=0.1/77\n",
        "unit_mu=0.1/77\n",
        "def mu(n):\n",
        "    return n * unit_mu\n",
        "print(f\"The pobability of commiting 2 errors in 455 words financial report is :{stats.poisson.pmf(2,mu=mu(455))}\")\n",
        "print(f\"The pobability of commiting 2 errors in 1000 words financial report is :{stats.poisson.pmf(2,mu=mu(1000))}\")\n",
        "print(f\"The pobability of commiting 2 errors in 255 words financial report is :{stats.poisson.pmf(2,mu=mu(255))}\")\n",
        "x=range(100,1000,50)\n",
        "mu=[i*unit_mu for i in x]\n",
        "fig,ax = plt.subplots(1,1,figsize=(15,5))\n",
        "ax.plot(x,stats.poisson.pmf(2,mu), 'bo', ms=8, label='poisson pmf')\n",
        "ax.vlines(x,0, stats.poisson.pmf(2,mu), colors='b', lw=5, alpha=0.5)\n",
        "#As the number of words increase probability of getting errors increases"
      ],
      "execution_count": null,
      "outputs": [
        {
          "output_type": "stream",
          "text": [
            "The pobability of commiting 2 errors in 455 words financial report is :0.09669027375144444\n",
            "The pobability of commiting 2 errors in 1000 words financial report is :0.23012815007300153\n",
            "The pobability of commiting 2 errors in 255 words financial report is :0.039377135392854104\n"
          ],
          "name": "stdout"
        },
        {
          "output_type": "execute_result",
          "data": {
            "text/plain": [
              "<matplotlib.collections.LineCollection at 0x7efc82f5d550>"
            ]
          },
          "metadata": {
            "tags": []
          },
          "execution_count": 37
        },
        {
          "output_type": "display_data",
          "data": {
            "image/png": "[encoded data removed]",
            "text/plain": [
              "<Figure size 1080x360 with 1 Axes>"
            ]
          },
          "metadata": {
            "tags": [],
            "needs_background": "light"
          }
        }
      ]
    },
    {
      "cell_type": "markdown",
      "metadata": {
        "id": "xWi0A6nJ2OtE"
      },
      "source": [
        "Question 10:"
      ]
    },
    {
      "cell_type": "code",
      "metadata": {
        "colab": {
          "base_uri": "https://localhost:8080/"
        },
        "id": "v9qiSTcy2P0e",
        "outputId": "b981a0fc-4c89-4675-b867-cf8846b0521d"
      },
      "source": [
        "from scipy.stats import norm\n",
        "def P(z,b=-np.inf) :\n",
        "    return integrate.quad(norm.pdf,b,z)[0]\n",
        "\n",
        "print('P(Z>1.26) = %.5f'%(1-P(1.26)))\n",
        "print('P(Z<-0.86) = %.5f'%P(-0.86))\n",
        "print('P(Z>-1.37) = %.5f'%(1-P(-1.37)))\n",
        "print('P(−1.25 < Z < 0.37) = %.5f'%P(0.37,b=-1.25))\n",
        "print('P(Z ≤ −4.6) = %.5f'%P(-4.6))"
      ],
      "execution_count": null,
      "outputs": [
        {
          "output_type": "stream",
          "text": [
            "P(Z>1.26) = 0.10383\n",
            "P(Z<-0.86) = 0.19489\n",
            "P(Z>-1.37) = 0.91466\n",
            "P(−1.25 < Z < 0.37) = 0.53866\n",
            "P(Z ≤ −4.6) = 0.00000\n"
          ],
          "name": "stdout"
        }
      ]
    },
    {
      "cell_type": "code",
      "metadata": {
        "colab": {
          "base_uri": "https://localhost:8080/"
        },
        "id": "Cz1vvM072RR9",
        "outputId": "ac3bd88b-7ffe-48e2-a701-3dfbfa23f829"
      },
      "source": [
        "print('P(Z>z)=0.05 is %.2f'%(-1*norm.ppf(0.05)))\n",
        "print('𝑃(−𝑧 < 𝑍 < 𝑧) = 0.99 is %.2f'%(abs(norm.ppf(0.005))))"
      ],
      "execution_count": null,
      "outputs": [
        {
          "output_type": "stream",
          "text": [
            "P(Z>z)=0.05 is 1.64\n",
            "𝑃(−𝑧 < 𝑍 < 𝑧) = 0.99 is 2.58\n"
          ],
          "name": "stdout"
        }
      ]
    },
    {
      "cell_type": "markdown",
      "metadata": {
        "id": "xVZcL0292XkM"
      },
      "source": [
        "Question 11:"
      ]
    },
    {
      "cell_type": "code",
      "metadata": {
        "colab": {
          "base_uri": "https://localhost:8080/"
        },
        "id": "WwN0ri5K2Ymi",
        "outputId": "424a5262-0677-4fbe-c4c6-fb252ff5e30c"
      },
      "source": [
        "mean = 10\n",
        "std = np.sqrt(4)\n",
        "\n",
        "def I(z, b=-np.inf):\n",
        "    z = (z-mean)/std\n",
        "    return integrate.quad(norm.pdf,b,z)[0]\n",
        "print(f\"Probability that current > 13mA is: {1-I(13)}\")\n",
        "print(f\"Probability that current is between 9 mA and 11 mA is : {1-I(11,b=9)}\")"
      ],
      "execution_count": null,
      "outputs": [
        {
          "output_type": "stream",
          "text": [
            "Probability that current > 13mA is: 0.06680720126885797\n",
            "Probability that current is between 9 mA and 11 mA is : 1.3085375387259144\n"
          ],
          "name": "stdout"
        }
      ]
    },
    {
      "cell_type": "markdown",
      "metadata": {
        "id": "b2h9K1d82is1"
      },
      "source": [
        "Question 12:"
      ]
    },
    {
      "cell_type": "code",
      "metadata": {
        "colab": {
          "base_uri": "https://localhost:8080/"
        },
        "id": "oT3Ww-um2keC",
        "outputId": "736a0b25-4ea5-4d87-ea80-836f51ae2cef"
      },
      "source": [
        "mean_diameter=0.2508\n",
        "std_diameter=0.0005\n",
        "#specified dia in the range of 0.2485<d<0.2515\n",
        "#case-1 if mean_dia=0.2508\n",
        "def I(mean,std,a,b) :\n",
        "  #gives P(Z<=x)\n",
        "  a=(a-mean)/std\n",
        "  b=(b-mean)/std\n",
        "print(f\"Proportion of shafts with dia in range of 0.2485<d<0.2515 when mean diameter:{0.2508,I(0.2508,0.0005,0.2485,0.2515)}\")\n",
        "print(f\"Proportion of shafts with dia in range of 0.2485<d<0.2515 when mean diameter:{0.2500,I(0.2500,0.0005,0.2485,0.2515)}\")"
      ],
      "execution_count": null,
      "outputs": [
        {
          "output_type": "stream",
          "text": [
            "Proportion of shafts with dia in range of 0.2485<d<0.2515 when mean diameter:(0.2508, None)\n",
            "Proportion of shafts with dia in range of 0.2485<d<0.2515 when mean diameter:(0.25, None)\n"
          ],
          "name": "stdout"
        }
      ]
    },
    {
      "cell_type": "code",
      "metadata": {
        "id": "BFlKtYFH2uNC"
      },
      "source": [
        ""
      ],
      "execution_count": null,
      "outputs": []
    }
  ]
}