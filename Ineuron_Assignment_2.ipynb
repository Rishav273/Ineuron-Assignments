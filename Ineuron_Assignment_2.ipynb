{
  "nbformat": 4,
  "nbformat_minor": 0,
  "metadata": {
    "colab": {
      "name": "Ineuron Assignment 2.ipynb",
      "provenance": [],
      "authorship_tag": "ABX9TyOtFIiqmzOhx5UbZYN2++Cm",
      "include_colab_link": true
    },
    "kernelspec": {
      "name": "python3",
      "display_name": "Python 3"
    }
  },
  "cells": [
    {
      "cell_type": "markdown",
      "metadata": {
        "id": "view-in-github",
        "colab_type": "text"
      },
      "source": [
        "<a href=\"https://colab.research.google.com/github/Rishav273/Ineuron-Assignments/blob/main/Ineuron_Assignment_2.ipynb\" target=\"_parent\"><img src=\"https://colab.research.google.com/assets/colab-badge.svg\" alt=\"Open In Colab\"/></a>"
      ]
    },
    {
      "cell_type": "markdown",
      "metadata": {
        "id": "s1cl8HfAtwbN"
      },
      "source": [
        "1. Write a program which accepts a sequence of comma-separated numbers from console  and generate a list. \n"
      ]
    },
    {
      "cell_type": "code",
      "metadata": {
        "colab": {
          "base_uri": "https://localhost:8080/"
        },
        "id": "qSdi77BctxNC",
        "outputId": "976e51e3-7a13-48c3-b1f5-ea8eb13fc2e8"
      },
      "source": [
        "# Answer 1:\n",
        "\n",
        "value = input(str(\"Enter a comma separated sequence of numbers \"))\n",
        "list_value = value.split(',')  \n",
        "print(list_value)"
      ],
      "execution_count": null,
      "outputs": [
        {
          "output_type": "stream",
          "text": [
            "Enter a comma separated sequence of numbers 1 ,2 ,3 ,4\n",
            "['1 ', '2 ', '3 ', '4']\n"
          ],
          "name": "stdout"
        }
      ]
    },
    {
      "cell_type": "markdown",
      "metadata": {
        "id": "wXwxGdJ-vUXU"
      },
      "source": [
        "Create the below pattern using nested for loop in Python. "
      ]
    },
    {
      "cell_type": "code",
      "metadata": {
        "colab": {
          "base_uri": "https://localhost:8080/"
        },
        "id": "f49ydVW7vU7Z",
        "outputId": "2b0e13a9-4115-4677-c280-8459f1f9e725"
      },
      "source": [
        "# Answer:-\n",
        "for i in range(5):\n",
        "    for j in range(i):\n",
        "        print('* ', end=\"\")\n",
        "    print('')\n",
        "\n",
        "\n",
        "for i in range(5,0,-1):       # Stepsize = -1\n",
        "    for j in range(i):\n",
        "        print('* ', end=\"\")\n",
        "    print('')"
      ],
      "execution_count": null,
      "outputs": [
        {
          "output_type": "stream",
          "text": [
            "\n",
            "* \n",
            "* * \n",
            "* * * \n",
            "* * * * \n",
            "* * * * * \n",
            "* * * * \n",
            "* * * \n",
            "* * \n",
            "* \n"
          ],
          "name": "stdout"
        }
      ]
    },
    {
      "cell_type": "markdown",
      "metadata": {
        "id": "RyURbJvkypGf"
      },
      "source": [
        "2. Write a Python program to reverse a word after accepting the input from the user. "
      ]
    },
    {
      "cell_type": "code",
      "metadata": {
        "colab": {
          "base_uri": "https://localhost:8080/"
        },
        "id": "XgOtcesiypxi",
        "outputId": "e83cce83-70d0-4875-947c-d611aec8e473"
      },
      "source": [
        "word = input(str(\"Type in a word: \"))\n",
        "\n",
        "result = word[::-1]\n",
        "print(result)"
      ],
      "execution_count": null,
      "outputs": [
        {
          "output_type": "stream",
          "text": [
            "Type in a word: ineuron\n",
            "norueni\n"
          ],
          "name": "stdout"
        }
      ]
    },
    {
      "cell_type": "code",
      "metadata": {
        "id": "6lOBwjIhy3Ta"
      },
      "source": [
        ""
      ],
      "execution_count": null,
      "outputs": []
    }
  ]
}