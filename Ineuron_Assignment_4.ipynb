{
  "nbformat": 4,
  "nbformat_minor": 0,
  "metadata": {
    "colab": {
      "name": "Ineuron Assignment 4.ipynb",
      "provenance": [],
      "authorship_tag": "ABX9TyMB0DtPVo0iCLPGhrVWNR9m",
      "include_colab_link": true
    },
    "kernelspec": {
      "name": "python3",
      "display_name": "Python 3"
    }
  },
  "cells": [
    {
      "cell_type": "markdown",
      "metadata": {
        "id": "view-in-github",
        "colab_type": "text"
      },
      "source": [
        "<a href=\"https://colab.research.google.com/github/Rishav273/Ineuron-Assignments/blob/main/Ineuron_Assignment_4.ipynb\" target=\"_parent\"><img src=\"https://colab.research.google.com/assets/colab-badge.svg\" alt=\"Open In Colab\"/></a>"
      ]
    },
    {
      "cell_type": "markdown",
      "metadata": {
        "id": "j2ENNtBu6LlX"
      },
      "source": [
        "1.1 Write a Python Program(with class concepts) to find the area of the triangle using the below  formula. \n",
        "\n",
        "area = (s*(s-a)*(s-b)*(s-c)) ** 0.5 \n",
        "\n",
        "Function to take the length of the sides of triangle from user should be defined in the parent  class and function to calculate the area should be defined in subclass. \n"
      ]
    },
    {
      "cell_type": "code",
      "metadata": {
        "colab": {
          "base_uri": "https://localhost:8080/"
        },
        "id": "Defr3t-W6MYc",
        "outputId": "f0141dba-9213-441b-a477-fa40bb43bec4"
      },
      "source": [
        "class GetSides():\n",
        "\n",
        "  def __init__(self,a,b,c):\n",
        "\n",
        "    self.a = a\n",
        "    self.b = b\n",
        "    self.c = c\n",
        "\n",
        "# Area subclass inherited from the triangle class:\n",
        "class Triangle(GetSides):\n",
        "\n",
        "  def area(self):\n",
        "\n",
        "    s = (self.a+self.b+self.c)/2\n",
        "\n",
        "    AREA = abs((s*(s-self.a)*(s-self.b)*(s-self.c)) ** 0.5)\n",
        "\n",
        "    print('The area of the triangle is {}'.format(AREA))\n",
        "\n",
        "t = Triangle(5,12,15)\n",
        "\n",
        "t.area()\n"
      ],
      "execution_count": null,
      "outputs": [
        {
          "output_type": "stream",
          "text": [
            "The area of the triangle is 26.5329983228432\n"
          ],
          "name": "stdout"
        }
      ]
    },
    {
      "cell_type": "markdown",
      "metadata": {
        "id": "NLWiDHZ2Gxho"
      },
      "source": [
        "1.2 Write a function filter_long_words() that takes a list of words and an integer n and returns  the list of words that are longer than n. \n"
      ]
    },
    {
      "cell_type": "code",
      "metadata": {
        "colab": {
          "base_uri": "https://localhost:8080/"
        },
        "id": "o2-PciNGHKw-",
        "outputId": "97778cd4-ab0f-46d0-8d76-b43c02877290"
      },
      "source": [
        "def filter_long_words(word_list,n):\n",
        "\n",
        "  result_list = []\n",
        "\n",
        "  for word in word_list:\n",
        "    if len(word) > n:\n",
        "      result_list.append(word)\n",
        "  return result_list\n",
        "word_list = ['Ineuron','Intelligence','Pvt','Ltd']\n",
        "\n",
        "\n",
        "filter_long_words(word_list,4)"
      ],
      "execution_count": null,
      "outputs": [
        {
          "output_type": "execute_result",
          "data": {
            "text/plain": [
              "['Ineuron', 'Intelligence']"
            ]
          },
          "metadata": {
            "tags": []
          },
          "execution_count": 41
        }
      ]
    },
    {
      "cell_type": "markdown",
      "metadata": {
        "id": "WXIgEsymIv8Z"
      },
      "source": [
        "2.1 Write a Python program using function concept that maps list of words into a list of integers  representing the lengths of the corresponding words. \n",
        "\n",
        "Hint: If a list [ ab,cde,erty] is passed on to the python function output should come as [2,3,4] Here 2,3 and 4 are the lengths of the words in the list. "
      ]
    },
    {
      "cell_type": "code",
      "metadata": {
        "colab": {
          "base_uri": "https://localhost:8080/"
        },
        "id": "vjWrlEfkIxbG",
        "outputId": "5a1cbfd3-c7f0-4d31-d936-7f60c89005f7"
      },
      "source": [
        "def get_length(word):\n",
        "\n",
        "  return len(word)\n",
        "\n",
        "list_of_words = ['my','dog','loves','chicken']\n",
        "\n",
        "result = list(map(get_length,list_of_words))\n",
        "print(result)"
      ],
      "execution_count": null,
      "outputs": [
        {
          "output_type": "stream",
          "text": [
            "[2, 3, 5, 7]\n"
          ],
          "name": "stdout"
        }
      ]
    },
    {
      "cell_type": "markdown",
      "metadata": {
        "id": "0sGsrlsURzO5"
      },
      "source": [
        "2.2 Write a Python function which takes a character (i.e. a string of length 1) and returns True if  it is a vowel, False otherwise"
      ]
    },
    {
      "cell_type": "code",
      "metadata": {
        "colab": {
          "base_uri": "https://localhost:8080/"
        },
        "id": "Ng6zEyf5Rz7G",
        "outputId": "f775175f-14c7-4585-eef8-1fd84b2394c8"
      },
      "source": [
        "def is_vowel(character):\n",
        "\n",
        "  if character in ['a','e','i','o','u']:\n",
        "    return True\n",
        "  else:\n",
        "    return False\n",
        "\n",
        "\n",
        "is_vowel('f')"
      ],
      "execution_count": null,
      "outputs": [
        {
          "output_type": "execute_result",
          "data": {
            "text/plain": [
              "False"
            ]
          },
          "metadata": {
            "tags": []
          },
          "execution_count": 49
        }
      ]
    },
    {
      "cell_type": "code",
      "metadata": {
        "id": "ZmsUKXMBSP1X"
      },
      "source": [
        ""
      ],
      "execution_count": null,
      "outputs": []
    }
  ]
}