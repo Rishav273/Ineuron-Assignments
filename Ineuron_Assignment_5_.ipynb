{
  "nbformat": 4,
  "nbformat_minor": 0,
  "metadata": {
    "colab": {
      "name": "Ineuron Assignment 5 .ipynb",
      "provenance": [],
      "authorship_tag": "ABX9TyPKvz175avkkVJc3hcCbcIy",
      "include_colab_link": true
    },
    "kernelspec": {
      "name": "python3",
      "display_name": "Python 3"
    }
  },
  "cells": [
    {
      "cell_type": "markdown",
      "metadata": {
        "id": "view-in-github",
        "colab_type": "text"
      },
      "source": [
        "<a href=\"https://colab.research.google.com/github/Rishav273/Ineuron-Assignments/blob/main/Ineuron_Assignment_5_.ipynb\" target=\"_parent\"><img src=\"https://colab.research.google.com/assets/colab-badge.svg\" alt=\"Open In Colab\"/></a>"
      ]
    },
    {
      "cell_type": "markdown",
      "metadata": {
        "id": "EJRwlBdDGE-f"
      },
      "source": [
        "1. Write a function to compute 5/0 and use try/except to catch the exceptions. "
      ]
    },
    {
      "cell_type": "code",
      "metadata": {
        "colab": {
          "base_uri": "https://localhost:8080/"
        },
        "id": "ctClCn8TGH4E",
        "outputId": "8d733554-bd85-40c7-f538-c61d13146e1c"
      },
      "source": [
        "def compute(n):\n",
        "\n",
        "  try:\n",
        "    n/0  \n",
        "  except:\n",
        "    print('Cannot divide a number by 0!')\n",
        "\n",
        "compute(5)"
      ],
      "execution_count": null,
      "outputs": [
        {
          "output_type": "stream",
          "text": [
            "Cannot divide a number by 0!\n"
          ],
          "name": "stdout"
        }
      ]
    },
    {
      "cell_type": "markdown",
      "metadata": {
        "id": "XPLcp2o5I5Vw"
      },
      "source": [
        "2. Implement a Python program to generate all sentences where subject is in  [\"Americans\", \"Indians\"] and verb is in [\"Play\", \"watch\"] and the object is in  [\"Baseball\",\"cricket\"]. \n",
        "\n",
        "Hint: Subject,Verb and Object should be declared in the program as shown below. \n",
        "\n",
        "subjects=[\"Americans \",\"Indians\"] \n",
        "\n",
        "verbs=[\"play\",\"watch\"] \n",
        "\n",
        "objects=[\"Baseball\",\"Cricket\"] \n"
      ]
    },
    {
      "cell_type": "code",
      "metadata": {
        "colab": {
          "base_uri": "https://localhost:8080/"
        },
        "id": "bNg1fKKnI7Nn",
        "outputId": "a15f3aba-46a7-4346-cee5-eafb5f385f61"
      },
      "source": [
        "subjects=[\"Americans \",\"Indians\"] \n",
        "verbs=[\"play\",\"watch\"] \n",
        "objects=[\"Baseball\",\"Cricket\"] \n",
        "\n",
        "for subject in subjects:\n",
        "  for verb in verbs:\n",
        "    for obj in objects:\n",
        "      print(subject+' '+verb+' '+obj)"
      ],
      "execution_count": null,
      "outputs": [
        {
          "output_type": "stream",
          "text": [
            "Americans  play Baseball\n",
            "Americans  play Cricket\n",
            "Americans  watch Baseball\n",
            "Americans  watch Cricket\n",
            "Indians play Baseball\n",
            "Indians play Cricket\n",
            "Indians watch Baseball\n",
            "Indians watch Cricket\n"
          ],
          "name": "stdout"
        }
      ]
    }
  ]
}