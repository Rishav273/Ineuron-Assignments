{
  "nbformat": 4,
  "nbformat_minor": 0,
  "metadata": {
    "colab": {
      "name": "Stats 3.ipynb",
      "provenance": [],
      "collapsed_sections": [],
      "authorship_tag": "ABX9TyP/lcY0gMiWpsGJaS20pC1j",
      "include_colab_link": true
    },
    "kernelspec": {
      "name": "python3",
      "display_name": "Python 3"
    },
    "language_info": {
      "name": "python"
    }
  },
  "cells": [
    {
      "cell_type": "markdown",
      "metadata": {
        "id": "view-in-github",
        "colab_type": "text"
      },
      "source": [
        "<a href=\"https://colab.research.google.com/github/Rishav273/Ineuron-Assignments/blob/main/Stats_3.ipynb\" target=\"_parent\"><img src=\"https://colab.research.google.com/assets/colab-badge.svg\" alt=\"Open In Colab\"/></a>"
      ]
    },
    {
      "cell_type": "code",
      "metadata": {
        "id": "_dvJxz-Sgx9L"
      },
      "source": [
        "import numpy as np\n",
        "from scipy import stats"
      ],
      "execution_count": null,
      "outputs": []
    },
    {
      "cell_type": "markdown",
      "metadata": {
        "id": "XLdQHnwShHNk"
      },
      "source": [
        "Question 1:\n",
        "\n",
        "Blood glucose levels for obese patients have a mean of 100 with a standard deviation of 15. A researcher thinks that a diet high in raw cornstarch will have a positive effect on\n",
        "blood glucose levels. A sample of 36 patients who have tried the raw cornstarch diet\n",
        "have a mean glucose level of 108. Test the hypothesis that the raw cornstarch had an\n",
        "effect or not."
      ]
    },
    {
      "cell_type": "code",
      "metadata": {
        "colab": {
          "base_uri": "https://localhost:8080/"
        },
        "id": "W5UZt1Xsg4bw",
        "outputId": "fe87dd62-9a82-4334-8da2-982755581a8f"
      },
      "source": [
        "pop_mean = 100\n",
        "pop_std = 15\n",
        "sample_mean = 108\n",
        "n = 36  # sample size\n",
        "alpha = 0.05\n",
        "\n",
        "# hypothesis - h0: no effect vs h1: effect (two tailed)\n",
        "\n",
        "se = pop_std/n**0.5\n",
        "Z = (sample_mean-pop_mean)/se\n",
        "print(f\"Z_score is: {Z}\")\n",
        "print(\"Critical region: \",stats.norm.ppf(alpha))\n"
      ],
      "execution_count": null,
      "outputs": [
        {
          "output_type": "stream",
          "text": [
            "Z_score is: 3.2\n",
            "Critical region:  -1.6448536269514729\n"
          ],
          "name": "stdout"
        }
      ]
    },
    {
      "cell_type": "markdown",
      "metadata": {
        "id": "pL4EZwHa4z9o"
      },
      "source": [
        "Question 2:"
      ]
    },
    {
      "cell_type": "code",
      "metadata": {
        "colab": {
          "base_uri": "https://localhost:8080/"
        },
        "id": "JZ-fUAs5pLWh",
        "outputId": "77a3c95e-1ae8-4da8-8b49-ea6186c034f3"
      },
      "source": [
        "n1 = 100\n",
        "n2 = 100\n",
        "R1 = 0.52            #Republicans from state 1\n",
        "D1 = 0.48            #Democrats from state 1\n",
        "R2 = 0.47            #Republicans from state 2\n",
        "D2 = 0.53            #Democrats from state 2\n",
        "\n",
        "mu = R1 - R2\n",
        "print(f\"mu: {mu}\")\n",
        "std = np.sqrt(((R1 * D1 ) / n1) + ((R2 * D2) /n2))\n",
        "print(f\"std: {std}\")\n",
        "\n",
        "#This problem requires us to find the probability that p1 is less than p2. \n",
        "#This is equivalent to finding the probability that R1 - R2 < 0. \n",
        "x = 0\n",
        "#To find this probability, we need to transform the random variable (R1 - R2) into a z-score. \n",
        "#That transformation appears below.\n",
        "\n",
        "Z_R1_R2 = ( x - mu)/std\n",
        "print(f\"Z_p1_p2 : {Z_R1_R2}\")\n",
        "\n",
        "#From Z table we find that the probability of a z-score being -0.7082 or less is 0.24.\n"
      ],
      "execution_count": null,
      "outputs": [
        {
          "output_type": "stream",
          "text": [
            "mu: 0.050000000000000044\n",
            "std: 0.07061869440877536\n",
            "Z_p1_p2 : -0.7080278164104213\n"
          ],
          "name": "stdout"
        }
      ]
    },
    {
      "cell_type": "markdown",
      "metadata": {
        "id": "NmCfRYKu5UKe"
      },
      "source": [
        "### Conclusion: the probability that the survey will show a greater percentage of Republican voters in the second state than in the first state is 0.24."
      ]
    },
    {
      "cell_type": "code",
      "metadata": {
        "id": "PODaD1zd3EVr"
      },
      "source": [
        ""
      ],
      "execution_count": null,
      "outputs": []
    },
    {
      "cell_type": "markdown",
      "metadata": {
        "id": "CZBTA6n13E4l"
      },
      "source": [
        "Question 3:\n",
        "\n",
        "You take the SAT and score 1100. The mean score for the SAT is 1026 and the standard deviation is 209. How well did you score on the test compared to the average test taker?"
      ]
    },
    {
      "cell_type": "code",
      "metadata": {
        "colab": {
          "base_uri": "https://localhost:8080/"
        },
        "id": "VxA3GlwH3GNW",
        "outputId": "c0b37920-fab2-401a-b305-f35eccc33810"
      },
      "source": [
        "#The z score tells you how many standard deviations from the mean your score is\n",
        "x = 1100 #\n",
        "mu = 1026 # Population Mean\n",
        "sd = 209 #population standard deviation\n",
        "z = ( x - mu)/sd\n",
        "print(\"Z Score : \",z)\n",
        "#the above calculation shows that my score is 0.35 standard deviations above the mean\n",
        "print(\"I've scored {:.2f} standard deviations above the average test taker.\".format(z))"
      ],
      "execution_count": null,
      "outputs": [
        {
          "output_type": "stream",
          "text": [
            "Z Score :  0.35406698564593303\n",
            "I've scored 0.35 standard deviations above the average test taker.\n"
          ],
          "name": "stdout"
        }
      ]
    },
    {
      "cell_type": "code",
      "metadata": {
        "id": "uzysNpTV3Kuq"
      },
      "source": [
        ""
      ],
      "execution_count": null,
      "outputs": []
    }
  ]
}