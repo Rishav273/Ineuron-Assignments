{
  "nbformat": 4,
  "nbformat_minor": 0,
  "metadata": {
    "colab": {
      "name": "NLP assignment.ipynb",
      "provenance": [],
      "collapsed_sections": [],
      "authorship_tag": "ABX9TyMMDVCjMz7QouZ7bWEnRXgD",
      "include_colab_link": true
    },
    "kernelspec": {
      "name": "python3",
      "display_name": "Python 3"
    },
    "language_info": {
      "name": "python"
    }
  },
  "cells": [
    {
      "cell_type": "markdown",
      "metadata": {
        "id": "view-in-github",
        "colab_type": "text"
      },
      "source": [
        "<a href=\"https://colab.research.google.com/github/Rishav273/Ineuron-Assignments/blob/main/NLP_assignment.ipynb\" target=\"_parent\"><img src=\"https://colab.research.google.com/assets/colab-badge.svg\" alt=\"Open In Colab\"/></a>"
      ]
    },
    {
      "cell_type": "code",
      "metadata": {
        "id": "ZQfYKg6HiaTB"
      },
      "source": [
        "from bs4 import BeautifulSoup\n",
        "import urllib\n",
        "import nltk\n",
        "import requests\n",
        "import re"
      ],
      "execution_count": 1,
      "outputs": []
    },
    {
      "cell_type": "code",
      "metadata": {
        "id": "xibPlGJjictB"
      },
      "source": [
        "response = urllib.request.urlopen('https://en.wikipedia.org/wiki/Paul_Samuelson')\n",
        "html = response.read()\n",
        "raw = BeautifulSoup(html,\"html5lib\").get_text()"
      ],
      "execution_count": 5,
      "outputs": []
    },
    {
      "cell_type": "code",
      "metadata": {
        "colab": {
          "base_uri": "https://localhost:8080/"
        },
        "id": "Z7D_wECXifui",
        "outputId": "ddd02eac-592a-4e46-aad9-aec218d2004a"
      },
      "source": [
        "nltk.download('punkt')\n",
        "words = nltk.word_tokenize(raw)"
      ],
      "execution_count": 6,
      "outputs": [
        {
          "output_type": "stream",
          "text": [
            "[nltk_data] Downloading package punkt to /root/nltk_data...\n",
            "[nltk_data]   Package punkt is already up-to-date!\n"
          ],
          "name": "stdout"
        }
      ]
    },
    {
      "cell_type": "code",
      "metadata": {
        "colab": {
          "base_uri": "https://localhost:8080/"
        },
        "id": "bMMSUgrcitcq",
        "outputId": "c5521992-28b3-4565-d60c-245a922440ab"
      },
      "source": [
        "words = [word for word in words if len(word) > 1]\n",
        "\n",
        "# Removing any numbers present in our text\n",
        "\n",
        "words = [word for word in words if not word.isnumeric()]\n",
        "\n",
        "# Lowercase all words (default_stopwords are lowercase too)\n",
        "\n",
        "words = [word.lower() for word in words]\n",
        "\n",
        "# Calculating frequency distribution\n",
        "\n",
        "fdist = nltk.FreqDist(words)\n",
        "\n",
        "# Printing the top 30 words with their frequency\n",
        "\n",
        "for word, frequency in fdist.most_common(30):\n",
        "    print(u'{}; {}'.format(word, frequency))"
      ],
      "execution_count": 7,
      "outputs": [
        {
          "output_type": "stream",
          "text": [
            "''; 689\n",
            "the; 243\n",
            "of; 204\n",
            "samuelson; 112\n",
            "and; 108\n",
            "``; 103\n",
            "in; 98\n",
            "with; 96\n",
            ".mw-parser-output; 89\n",
            "paul; 85\n",
            "economics; 79\n",
            "articles; 72\n",
            "to; 67\n",
            "economic; 65\n",
            "robert; 61\n",
            "a.; 55\n",
            "john; 52\n",
            "j.; 43\n",
            "e.; 43\n",
            "m.; 40\n",
            "wikipedia; 36\n",
            "c.; 36\n",
            "is; 35\n",
            "he; 34\n",
            "american; 33\n",
            "was; 33\n",
            "w.; 32\n",
            "identifiers; 31\n",
            "james; 31\n",
            "r.; 31\n"
          ],
          "name": "stdout"
        }
      ]
    },
    {
      "cell_type": "code",
      "metadata": {
        "id": "5gg8r4mxixoo"
      },
      "source": [
        ""
      ],
      "execution_count": null,
      "outputs": []
    }
  ]
}