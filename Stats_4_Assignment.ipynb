{
  "nbformat": 4,
  "nbformat_minor": 0,
  "metadata": {
    "colab": {
      "name": "Stats 4 Assignment.ipynb",
      "provenance": [],
      "collapsed_sections": [],
      "authorship_tag": "ABX9TyMZvJjgbIsiPY8A7kEF54ez",
      "include_colab_link": true
    },
    "kernelspec": {
      "name": "python3",
      "display_name": "Python 3"
    },
    "language_info": {
      "name": "python"
    }
  },
  "cells": [
    {
      "cell_type": "markdown",
      "metadata": {
        "id": "view-in-github",
        "colab_type": "text"
      },
      "source": [
        "<a href=\"https://colab.research.google.com/github/Rishav273/Ineuron-Assignments/blob/main/Stats_4_Assignment.ipynb\" target=\"_parent\"><img src=\"https://colab.research.google.com/assets/colab-badge.svg\" alt=\"Open In Colab\"/></a>"
      ]
    },
    {
      "cell_type": "code",
      "metadata": {
        "id": "ssIt58FDoevA"
      },
      "source": [
        "import scipy.stats as sts\n",
        "from scipy.stats import norm\n",
        "import math\n",
        "import numpy as np\n",
        "import pandas as pd"
      ],
      "execution_count": 1,
      "outputs": []
    },
    {
      "cell_type": "markdown",
      "metadata": {
        "id": "URz_q7Egop9W"
      },
      "source": [
        "### Question 1:\n",
        "\n",
        "Is gender independent of education level? A random sample of 395 people were\n",
        "surveyed and each person was asked to report the highest education level they\n",
        "obtained. The data that resulted from the survey is summarized in the following table:\n",
        "\n",
        "High    School Bachelors Masters Ph.d. Total\n",
        "Female  60     54         46       41   201\n",
        "Male    40     44         53       57   194\n",
        "Total  100     98         99       98   395\n",
        "\n",
        "Question: Are gender and education level dependent at 5% level of significance? In\n",
        "other words, given the data collected above, is there a relationship between the\n",
        "gender of an individual and the level of education that they have obtained?"
      ]
    },
    {
      "cell_type": "code",
      "metadata": {
        "colab": {
          "base_uri": "https://localhost:8080/"
        },
        "id": "vWWVyWviotk9",
        "outputId": "eb2d9a78-0b28-4a7f-f61b-771562422a59"
      },
      "source": [
        "f_list = [60,54,46,41]\n",
        "m_list = [40,44,53,57]\n",
        "s = [40,60]\n",
        "b = [44,54]\n",
        "m = [53,46]\n",
        "p = [57,41]\n",
        "marks = m_list + f_list\n",
        "print(marks)\n",
        "sex =  ['Male','Male','Male','Male','Female','Female','Female','Female']\n",
        "edu = ['High School', 'Bachelors', 'Masters', 'Ph.d.','High School', 'Bachelors', 'Masters', 'Ph.d.']\n",
        "df_edu = pd.DataFrame({\"Sex\":sex,\"Edu\":edu,\"Marks\":marks})\n",
        "\n",
        "#df_edu = df_edu[['Sex','High School', 'Bachelors', 'Masters', 'Ph.d.']]\n",
        "\n",
        "#df_edu['Row_total'] = row_list\n",
        "print(df_edu)\n",
        "cross_tab = pd.crosstab([df_edu.Sex,df_edu.Marks],df_edu.Edu,margins=True)"
      ],
      "execution_count": 2,
      "outputs": [
        {
          "output_type": "stream",
          "text": [
            "[40, 44, 53, 57, 60, 54, 46, 41]\n",
            "      Sex          Edu  Marks\n",
            "0    Male  High School     40\n",
            "1    Male    Bachelors     44\n",
            "2    Male      Masters     53\n",
            "3    Male        Ph.d.     57\n",
            "4  Female  High School     60\n",
            "5  Female    Bachelors     54\n",
            "6  Female      Masters     46\n",
            "7  Female        Ph.d.     41\n"
          ],
          "name": "stdout"
        }
      ]
    },
    {
      "cell_type": "code",
      "metadata": {
        "colab": {
          "base_uri": "https://localhost:8080/",
          "height": 142
        },
        "id": "pEOTemEzozrC",
        "outputId": "8b3fe93d-f859-420d-9191-13d577c49a27"
      },
      "source": [
        "df2 = pd.crosstab(df_edu.Sex, df_edu.Edu,df_edu.Marks, aggfunc=\"sum\",margins=True)\n",
        "\n",
        "df2.columns = [\"Bachelors\",\"High School\",\"Masters\",\"Ph.d.\",\"row_totals\"]\n",
        "\n",
        "df2.index = [\"Female\",\"Male\",\"col_totals\"]\n",
        "\n",
        "df2"
      ],
      "execution_count": 3,
      "outputs": [
        {
          "output_type": "execute_result",
          "data": {
            "text/html": [
              "<div>\n",
              "<style scoped>\n",
              "    .dataframe tbody tr th:only-of-type {\n",
              "        vertical-align: middle;\n",
              "    }\n",
              "\n",
              "    .dataframe tbody tr th {\n",
              "        vertical-align: top;\n",
              "    }\n",
              "\n",
              "    .dataframe thead th {\n",
              "        text-align: right;\n",
              "    }\n",
              "</style>\n",
              "<table border=\"1\" class=\"dataframe\">\n",
              "  <thead>\n",
              "    <tr style=\"text-align: right;\">\n",
              "      <th></th>\n",
              "      <th>Bachelors</th>\n",
              "      <th>High School</th>\n",
              "      <th>Masters</th>\n",
              "      <th>Ph.d.</th>\n",
              "      <th>row_totals</th>\n",
              "    </tr>\n",
              "  </thead>\n",
              "  <tbody>\n",
              "    <tr>\n",
              "      <th>Female</th>\n",
              "      <td>54</td>\n",
              "      <td>60</td>\n",
              "      <td>46</td>\n",
              "      <td>41</td>\n",
              "      <td>201</td>\n",
              "    </tr>\n",
              "    <tr>\n",
              "      <th>Male</th>\n",
              "      <td>44</td>\n",
              "      <td>40</td>\n",
              "      <td>53</td>\n",
              "      <td>57</td>\n",
              "      <td>194</td>\n",
              "    </tr>\n",
              "    <tr>\n",
              "      <th>col_totals</th>\n",
              "      <td>98</td>\n",
              "      <td>100</td>\n",
              "      <td>99</td>\n",
              "      <td>98</td>\n",
              "      <td>395</td>\n",
              "    </tr>\n",
              "  </tbody>\n",
              "</table>\n",
              "</div>"
            ],
            "text/plain": [
              "            Bachelors  High School  Masters  Ph.d.  row_totals\n",
              "Female             54           60       46     41         201\n",
              "Male               44           40       53     57         194\n",
              "col_totals         98          100       99     98         395"
            ]
          },
          "metadata": {
            "tags": []
          },
          "execution_count": 3
        }
      ]
    },
    {
      "cell_type": "code",
      "metadata": {
        "colab": {
          "base_uri": "https://localhost:8080/",
          "height": 111
        },
        "id": "7RmunLmEo4Z6",
        "outputId": "ccf1bb27-99a8-4294-a035-43e06e6f447c"
      },
      "source": [
        "observed = df2.iloc[0:2,0:4]   # Get table without totals for later use\n",
        "observed"
      ],
      "execution_count": 4,
      "outputs": [
        {
          "output_type": "execute_result",
          "data": {
            "text/html": [
              "<div>\n",
              "<style scoped>\n",
              "    .dataframe tbody tr th:only-of-type {\n",
              "        vertical-align: middle;\n",
              "    }\n",
              "\n",
              "    .dataframe tbody tr th {\n",
              "        vertical-align: top;\n",
              "    }\n",
              "\n",
              "    .dataframe thead th {\n",
              "        text-align: right;\n",
              "    }\n",
              "</style>\n",
              "<table border=\"1\" class=\"dataframe\">\n",
              "  <thead>\n",
              "    <tr style=\"text-align: right;\">\n",
              "      <th></th>\n",
              "      <th>Bachelors</th>\n",
              "      <th>High School</th>\n",
              "      <th>Masters</th>\n",
              "      <th>Ph.d.</th>\n",
              "    </tr>\n",
              "  </thead>\n",
              "  <tbody>\n",
              "    <tr>\n",
              "      <th>Female</th>\n",
              "      <td>54</td>\n",
              "      <td>60</td>\n",
              "      <td>46</td>\n",
              "      <td>41</td>\n",
              "    </tr>\n",
              "    <tr>\n",
              "      <th>Male</th>\n",
              "      <td>44</td>\n",
              "      <td>40</td>\n",
              "      <td>53</td>\n",
              "      <td>57</td>\n",
              "    </tr>\n",
              "  </tbody>\n",
              "</table>\n",
              "</div>"
            ],
            "text/plain": [
              "        Bachelors  High School  Masters  Ph.d.\n",
              "Female         54           60       46     41\n",
              "Male           44           40       53     57"
            ]
          },
          "metadata": {
            "tags": []
          },
          "execution_count": 4
        }
      ]
    },
    {
      "cell_type": "code",
      "metadata": {
        "colab": {
          "base_uri": "https://localhost:8080/",
          "height": 111
        },
        "id": "a4aoQYD8o7A-",
        "outputId": "186cd846-73a6-4610-c274-c15e882e932d"
      },
      "source": [
        "expected =  np.outer(df2[\"row_totals\"][0:2],\n",
        "                     df2.loc[\"col_totals\"][0:4]) / 395.0\n",
        "expected = pd.DataFrame(expected)\n",
        "expected.columns = [\"Bachelors\",\"High School\",\"Masters\",\"Ph.d.\"]\n",
        "expected.index = [\"Female\",\"Male\"]\n",
        "expected"
      ],
      "execution_count": 5,
      "outputs": [
        {
          "output_type": "execute_result",
          "data": {
            "text/html": [
              "<div>\n",
              "<style scoped>\n",
              "    .dataframe tbody tr th:only-of-type {\n",
              "        vertical-align: middle;\n",
              "    }\n",
              "\n",
              "    .dataframe tbody tr th {\n",
              "        vertical-align: top;\n",
              "    }\n",
              "\n",
              "    .dataframe thead th {\n",
              "        text-align: right;\n",
              "    }\n",
              "</style>\n",
              "<table border=\"1\" class=\"dataframe\">\n",
              "  <thead>\n",
              "    <tr style=\"text-align: right;\">\n",
              "      <th></th>\n",
              "      <th>Bachelors</th>\n",
              "      <th>High School</th>\n",
              "      <th>Masters</th>\n",
              "      <th>Ph.d.</th>\n",
              "    </tr>\n",
              "  </thead>\n",
              "  <tbody>\n",
              "    <tr>\n",
              "      <th>Female</th>\n",
              "      <td>49.868354</td>\n",
              "      <td>50.886076</td>\n",
              "      <td>50.377215</td>\n",
              "      <td>49.868354</td>\n",
              "    </tr>\n",
              "    <tr>\n",
              "      <th>Male</th>\n",
              "      <td>48.131646</td>\n",
              "      <td>49.113924</td>\n",
              "      <td>48.622785</td>\n",
              "      <td>48.131646</td>\n",
              "    </tr>\n",
              "  </tbody>\n",
              "</table>\n",
              "</div>"
            ],
            "text/plain": [
              "        Bachelors  High School    Masters      Ph.d.\n",
              "Female  49.868354    50.886076  50.377215  49.868354\n",
              "Male    48.131646    49.113924  48.622785  48.131646"
            ]
          },
          "metadata": {
            "tags": []
          },
          "execution_count": 5
        }
      ]
    },
    {
      "cell_type": "code",
      "metadata": {
        "colab": {
          "base_uri": "https://localhost:8080/"
        },
        "id": "pWojpFwupCOx",
        "outputId": "abcbcc13-45a1-4108-e3d3-4c56be8e3e54"
      },
      "source": [
        "# Calculate chi squared stat:\n",
        "chi_squared_stat = (((observed-expected)**2)/expected).sum().sum()\n",
        "\n",
        "print(chi_squared_stat)\n"
      ],
      "execution_count": 6,
      "outputs": [
        {
          "output_type": "stream",
          "text": [
            "8.006066246262538\n"
          ],
          "name": "stdout"
        }
      ]
    },
    {
      "cell_type": "code",
      "metadata": {
        "colab": {
          "base_uri": "https://localhost:8080/"
        },
        "id": "Ut6VsIv4pI7s",
        "outputId": "24a4d23e-9fa4-4906-e7f2-e294612e1aae"
      },
      "source": [
        "crit = sts.chi2.ppf(q = 0.95, # Find the critical value for 95% confidence*\n",
        "                      df = 3)   # *\n",
        "\n",
        "print(\"Critical value\")\n",
        "print(crit)\n",
        "\n",
        "p_value = 1 - sts.chi2.cdf(x=chi_squared_stat, df=3)  # Find the p-value\n",
        "                            \n",
        "print(\"P value\")\n",
        "print(p_value)"
      ],
      "execution_count": 7,
      "outputs": [
        {
          "output_type": "stream",
          "text": [
            "Critical value\n",
            "7.814727903251179\n",
            "P value\n",
            "0.04588650089174717\n"
          ],
          "name": "stdout"
        }
      ]
    },
    {
      "cell_type": "code",
      "metadata": {
        "colab": {
          "base_uri": "https://localhost:8080/"
        },
        "id": "r98eKOtLpNCo",
        "outputId": "d356a5f4-cf1e-45c3-e6f7-09d75e83efaf"
      },
      "source": [
        "sts.chi2_contingency(observed= observed)"
      ],
      "execution_count": 8,
      "outputs": [
        {
          "output_type": "execute_result",
          "data": {
            "text/plain": [
              "(8.006066246262538,\n",
              " 0.045886500891747214,\n",
              " 3,\n",
              " array([[49.86835443, 50.88607595, 50.37721519, 49.86835443],\n",
              "        [48.13164557, 49.11392405, 48.62278481, 48.13164557]]))"
            ]
          },
          "metadata": {
            "tags": []
          },
          "execution_count": 8
        }
      ]
    },
    {
      "cell_type": "markdown",
      "metadata": {
        "id": "6T9Iv1uzpW_m"
      },
      "source": [
        "### Question 2: "
      ]
    },
    {
      "cell_type": "code",
      "metadata": {
        "colab": {
          "base_uri": "https://localhost:8080/"
        },
        "id": "m3n_fT32pQWp",
        "outputId": "cdda8d7b-d440-41c9-c839-ae0a8db1bdff"
      },
      "source": [
        "#The analysis of variance or ANOVA is a statistical inference test that lets you compare multiple groups at the same time.\n",
        "#The one-way ANOVA tests whether the mean of some numeric variable differs across the levels of one categorical variable. \n",
        "#It essentially answers the question: do any of the group means differ from one another? \n",
        "\n",
        "#The scipy library has a function for carrying out one-way ANOVA tests called scipy.stats.f_oneway()\n",
        "\n",
        "Group1 = [51, 45, 33, 45, 67]\n",
        "Group2 = [23, 43, 23, 43, 45]\n",
        "Group3 = [56, 76, 74, 87, 56]\n",
        "\n",
        "# Perform the ANOVA\n",
        "statistic, pvalue = sts.f_oneway(Group1,Group2,Group3)\n",
        "print(\"F Statistic value {} , p-value {}\".format(statistic,pvalue))\n",
        "if pvalue < 0.05:\n",
        "    print('True')\n",
        "else:\n",
        "    print('False')"
      ],
      "execution_count": 9,
      "outputs": [
        {
          "output_type": "stream",
          "text": [
            "F Statistic value 9.747205503009463 , p-value 0.0030597541434430556\n",
            "True\n"
          ],
          "name": "stdout"
        }
      ]
    },
    {
      "cell_type": "markdown",
      "metadata": {
        "id": "ynJTSjPhphgb"
      },
      "source": [
        "### Problem Statement 3:¶\n",
        "Calculate F Test for given 10, 20, 30, 40, 50 and 5,10,15, 20, 25. For 10, 20, 30, 40, 50:"
      ]
    },
    {
      "cell_type": "code",
      "metadata": {
        "colab": {
          "base_uri": "https://localhost:8080/"
        },
        "id": "6xSLBt0-pTHy",
        "outputId": "a19d03db-6a0d-4024-e3d8-0bc80baa4579"
      },
      "source": [
        "sts.f_oneway([10, 20, 30, 40, 50],[5,10,15, 20, 25])"
      ],
      "execution_count": 10,
      "outputs": [
        {
          "output_type": "execute_result",
          "data": {
            "text/plain": [
              "F_onewayResult(statistic=3.6, pvalue=0.0943497728424377)"
            ]
          },
          "metadata": {
            "tags": []
          },
          "execution_count": 10
        }
      ]
    },
    {
      "cell_type": "code",
      "metadata": {
        "colab": {
          "base_uri": "https://localhost:8080/"
        },
        "id": "QcYwQaTbplbz",
        "outputId": "ad08e46f-0304-444a-b05f-6b2a50192238"
      },
      "source": [
        "Group1 = [10, 20, 30, 40, 50]\n",
        "Group2 = [5,10,15, 20, 25]\n",
        "\n",
        "mean_1 = np.mean(Group1)\n",
        "mean_2 = np.mean(Group2)\n",
        "\n",
        "grp1_sub_mean1 = []\n",
        "grp2_sub_mean2 = []\n",
        "add1 = 0\n",
        "add2 = 0\n",
        "for items in Group1:\n",
        "    add1 += (items - mean_1)**2\n",
        "for items in Group2:\n",
        "    add2 += (items - mean_2)**2\n",
        "var1 = add1/(len(Group1)-1)\n",
        "var2 = add2/(len(Group2)-1)\n",
        "\n",
        "F_Test = var1/var2\n",
        "print(\"F Test for given 10, 20, 30, 40, 50 and 5,10,15, 20, 25 is : \",F_Test)"
      ],
      "execution_count": 11,
      "outputs": [
        {
          "output_type": "stream",
          "text": [
            "F Test for given 10, 20, 30, 40, 50 and 5,10,15, 20, 25 is :  4.0\n"
          ],
          "name": "stdout"
        }
      ]
    },
    {
      "cell_type": "code",
      "metadata": {
        "id": "FaXdUXVIpnlV"
      },
      "source": [
        ""
      ],
      "execution_count": null,
      "outputs": []
    }
  ]
}